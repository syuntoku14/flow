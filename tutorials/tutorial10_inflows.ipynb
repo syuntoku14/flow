{
 "cells": [
  {
   "cell_type": "markdown",
   "metadata": {},
   "source": [
    "# Tutorial 10: Inflows\n",
    "\n",
    "This tutorial walks you through the process of introducing inflows of vehicles into a network. Inflows allow us to simulate open networks where vehicles may enter (and potentially exit) the network. This exercise is organized as follows: in section 1 we prepare our inflows variables to support inflows into a merge network supplied by Flow, and in section 2 we simulate the merge network in the presence of inflows.\n",
    "\n",
    "## 1. Adding Inflows\n",
    "\n",
    "For this exercise, we will simulate inflows through a highway network with an on-merge. As we will see, the perturbations caused by vehicles entering through the on-merge leads the formation of congested waves downstream in the main highway.\n",
    "\n",
    "We begin by importing the merge scenario class provided by Flow."
   ]
  },
  {
   "cell_type": "code",
   "execution_count": null,
   "metadata": {},
   "outputs": [],
   "source": [
    "from flow.scenarios import MergeScenario"
   ]
  },
  {
   "cell_type": "markdown",
   "metadata": {},
   "source": [
    "A schematic of the above network is availabe in the figure below. As we can see, the edges at the start of the main highway and the on-merge are named \"inflow_highway\" and \"inflow_merge\" respectively. These names will be important to us when we begin specifying our inflows into the network.\n",
    "\n",
    "<img src=\"img/merge_scheme.png\" width=\"750\">\n",
    "\n",
    "We will also define the types of vehicles that are placed in the network. These types of vehicles will also be of significance to us once the inflows are being defined. For this exercise, we add only one type of vehicle to the network, with the vehicle identifier \"human\":"
   ]
  },
  {
   "cell_type": "code",
   "execution_count": null,
   "metadata": {},
   "outputs": [],
   "source": [
    "from flow.core.params import VehicleParams\n",
    "from flow.controllers import IDMController\n",
    "from flow.core.params import SumoCarFollowingParams\n",
    "\n",
    "# create an empty vehicles object\n",
    "vehicles = VehicleParams()\n",
    "\n",
    "# add some vehicles to this object of type \"human\"\n",
    "vehicles.add(\"human\", \n",
    "             acceleration_controller=(IDMController, {}),\n",
    "             car_following_params=SumoCarFollowingParams(\n",
    "                 speed_mode=\"obey_safe_speed\",  # we use the speed mode \"obey_safe_speed\" for better dynamics at the merge\n",
    "             ),\n",
    "             num_vehicles=20)"
   ]
  },
  {
   "cell_type": "markdown",
   "metadata": {},
   "source": [
    "Next, we are ready to import and create an empty inflows object."
   ]
  },
  {
   "cell_type": "code",
   "execution_count": null,
   "metadata": {},
   "outputs": [],
   "source": [
    "from flow.core.params import InFlows\n",
    "\n",
    "inflow = InFlows()"
   ]
  },
  {
   "cell_type": "markdown",
   "metadata": {},
   "source": [
    "The `InFlows` object is provided as an input during the scenario creation process via the `NetParams` parameter. Introducing these inflows into the network is handled by the backend scenario generation processes during instantiation of the scenario object.\n",
    "\n",
    "In order to add new inflows of vehicles of pre-defined types onto specific edges and lanes in the network, we use the `InFlows` object's `add` method. This function accepts the following parameters:\n",
    "\n",
    "* **veh_type**: type of vehicles entering the edge, must match one of the types set in the Vehicles class\n",
    "* **edge**: starting edge for vehicles in this inflow, must match an edge name in the network\n",
    "* **veh_per_hour**: number of vehicles entering from the edge per hour, may not be achievable due to congestion and safe driving behavior\n",
    "* other parameters, including: **start**, **end**, and **probability**. See documentation for more information.\n",
    "\n",
    "In addition to the above parameters, several optional inputs to the `add` method may be found within sumo's documentation at: http://sumo.dlr.de/wiki/Definition_of_Vehicles,_Vehicle_Types,_and_Routes. Some important features include:\n",
    "\n",
    "* **departLane**: specifies which lane vehicles will enter from on the edge, may be specified as \"all\" or \"random\"\n",
    "* **departSpeed**: speed of the vehicles once they enter the network\n",
    "\n",
    "We begin by adding inflows of vehicles at a rate of 2000 veh/hr through *all* lanes on the main highways as follows:"
   ]
  },
  {
   "cell_type": "code",
   "execution_count": null,
   "metadata": {},
   "outputs": [],
   "source": [
    "inflow.add(veh_type=\"human\",\n",
    "           edge=\"inflow_highway\",\n",
    "           vehs_per_hour=2000,\n",
    "           departSpeed=10,\n",
    "           departLane=\"random\")"
   ]
  },
  {
   "cell_type": "markdown",
   "metadata": {},
   "source": [
    "Next, we specify a second inflow of vehicles through the on-merge lane at a rate of only 100 veh/hr."
   ]
  },
  {
   "cell_type": "code",
   "execution_count": null,
   "metadata": {},
   "outputs": [],
   "source": [
    "inflow.add(veh_type=\"human\",\n",
    "           edge=\"inflow_merge\",\n",
    "           vehs_per_hour=100,\n",
    "           departSpeed=10,\n",
    "           departLane=\"random\")"
   ]
  },
  {
   "cell_type": "markdown",
   "metadata": {},
   "source": [
    "## 2. Running Simulations with Inflows\n",
    "\n",
    "We are now ready to test our inflows in simulation. As mentioned in section 1, the inflows are specified in the `NetParams` object, in addition to all other network-specific parameters. For the merge network, this is done as follows: "
   ]
  },
  {
   "cell_type": "code",
   "execution_count": null,
   "metadata": {},
   "outputs": [],
   "source": [
    "from flow.scenarios.merge import ADDITIONAL_NET_PARAMS\n",
    "from flow.core.params import NetParams\n",
    "\n",
    "additional_net_params = ADDITIONAL_NET_PARAMS.copy()\n",
    "\n",
    "# we choose to make the main highway slightly longer\n",
    "additional_net_params[\"pre_merge_length\"] = 500\n",
    "\n",
    "net_params = NetParams(inflows=inflow,  # our inflows\n",
    "                       no_internal_links=False,\n",
    "                       additional_params=additional_net_params)"
   ]
  },
  {
   "cell_type": "markdown",
   "metadata": {},
   "source": [
    "Finally, we execute the simulation following simulation creation techniques we learned from exercise 1 using the below code block. Running this simulation, we see an excessive number of vehicles entering from the main highway, but only a sparse number of vehicles entering from the on-merge. Nevertheless, this volume of merging vehicles is sufficient to form congestive patterns within the main highway."
   ]
  },
  {
   "cell_type": "code",
   "execution_count": null,
   "metadata": {},
   "outputs": [],
   "source": [
    "from flow.core.params import SumoParams, EnvParams, InitialConfig\n",
    "from flow.envs.loop.loop_accel import AccelEnv, ADDITIONAL_ENV_PARAMS\n",
    "from flow.core.experiment import Experiment\n",
    "\n",
    "sumo_params = SumoParams(render=True,\n",
    "                         sim_step=0.2)\n",
    "\n",
    "env_params = EnvParams(additional_params=ADDITIONAL_ENV_PARAMS)\n",
    "\n",
    "initial_config = InitialConfig()\n",
    "\n",
    "scenario = MergeScenario(name=\"merge-example\",\n",
    "                         vehicles=vehicles,\n",
    "                         net_params=net_params,\n",
    "                         initial_config=initial_config)\n",
    "\n",
    "env = AccelEnv(env_params, sumo_params, scenario)\n",
    "\n",
    "exp = Experiment(env)\n",
    "\n",
    "_ = exp.run(1, 1500)"
   ]
  },
  {
   "cell_type": "code",
   "execution_count": null,
   "metadata": {},
   "outputs": [],
   "source": []
  }
 ],
 "metadata": {
  "kernelspec": {
   "display_name": "Python 3",
   "language": "python",
   "name": "python3"
  },
  "language_info": {
   "codemirror_mode": {
    "name": "ipython",
    "version": 3
   },
   "file_extension": ".py",
   "mimetype": "text/x-python",
   "name": "python",
   "nbconvert_exporter": "python",
   "pygments_lexer": "ipython3",
   "version": "3.5.2"
  },
  "varInspector": {
   "cols": {
    "lenName": "50",
    "lenType": "50",
    "lenVar": "50"
   },
   "kernels_config": {
    "python": {
     "delete_cmd_postfix": "",
     "delete_cmd_prefix": "del ",
     "library": "var_list.py",
     "varRefreshCmd": "print(var_dic_list())"
    },
    "r": {
     "delete_cmd_postfix": ") ",
     "delete_cmd_prefix": "rm(",
     "library": "var_list.r",
     "varRefreshCmd": "cat(var_dic_list()) "
    }
   },
   "types_to_exclude": [
    "module",
    "function",
    "builtin_function_or_method",
    "instance",
    "_Feature"
   ],
   "window_display": false
  },
  "widgets": {
   "state": {},
   "version": "1.1.2"
  }
 },
 "nbformat": 4,
 "nbformat_minor": 1
}
